{
 "cells": [
  {
   "cell_type": "code",
   "execution_count": null,
   "id": "56100fb4-1c71-4d23-b6d0-5ba0799e04e9",
   "metadata": {},
   "outputs": [],
   "source": []
  },
  {
   "cell_type": "code",
   "execution_count": 2,
   "id": "7975cf9d-c934-4554-a3d0-560b4ae9ade8",
   "metadata": {},
   "outputs": [],
   "source": [
    "import os\n",
    "import re\n",
    "import numpy as np\n",
    "import json\n",
    "from nltk.tokenize import word_tokenize, sent_tokenize\n",
    "import seaborn as sns"
   ]
  },
  {
   "cell_type": "code",
   "execution_count": 40,
   "id": "46f4a875-ff5e-4aa7-a0a2-f93b3aa4e33e",
   "metadata": {},
   "outputs": [],
   "source": [
    "DATA = \"data/\"\n",
    "files = os.listdir(DATA)"
   ]
  },
  {
   "cell_type": "code",
   "execution_count": 41,
   "id": "5b51e660-416e-4097-b666-75560d1ab3a2",
   "metadata": {
    "scrolled": true
   },
   "outputs": [],
   "source": [
    "texts = [open(DATA + x).read() for x in files]"
   ]
  },
  {
   "cell_type": "code",
   "execution_count": 4,
   "id": "0e06682b-be6a-47a8-8bf4-12d04ee5458e",
   "metadata": {},
   "outputs": [],
   "source": [
    "for t in files:\n",
    "    if t.endswith(\"~\"):\n",
    "        os.rename(f\"{DATA}{t}\", f\"{DATA}_{t[:-1]}\")"
   ]
  },
  {
   "cell_type": "code",
   "execution_count": 48,
   "id": "666d36e0-5ffe-443e-8580-3725d61d7220",
   "metadata": {},
   "outputs": [],
   "source": [
    "texts = [open(\"broken.txt\").read()]"
   ]
  },
  {
   "cell_type": "code",
   "execution_count": 49,
   "id": "49d38930-4365-4591-afbf-46b0aa223c4f",
   "metadata": {},
   "outputs": [],
   "source": [
    "#remove all <p> tags\n",
    "texts = list(map(lambda x: re.sub(\"<p>\", \"\", x), texts))\n",
    "#remove references, i.e. [1]\n",
    "texts = list(map(lambda x: re.sub(\"\\[[0-9, - c.]+\\]\", \"\", x), texts))\n",
    "#remove headers\n",
    "#texts = list(map(lambda x: re.sub(\"\\<h\\>[\\w -«»:–]+\", \"\", x), texts)) \n",
    "# replace some characters\n",
    "texts = list(map(lambda x: re.sub(\"ѐ\", \"e\", x), texts))\n",
    "# remove <li> tag\n",
    "texts = list(map(lambda x: x.replace(\"\\n<li>\", \" \"), texts))\n",
    "# replace &quot;\n",
    "texts = list(map(lambda x: x.replace(\"&quot;\", \"\\\"\"), texts))\n",
    "\n",
    "texts = list(map(lambda x: x.replace(\"<keys>\", \"<key>\"), texts))\n",
    "\n"
   ]
  },
  {
   "cell_type": "code",
   "execution_count": 43,
   "id": "5fb59b25-c18c-4d35-835a-3bda559d0c7e",
   "metadata": {},
   "outputs": [],
   "source": [
    "\n",
    "paragrap_annotation = []\n"
   ]
  },
  {
   "cell_type": "code",
   "execution_count": 50,
   "id": "a8ca5718-69c7-4266-ba54-17c3ff2b6003",
   "metadata": {},
   "outputs": [],
   "source": [
    "broken_texts = []\n",
    "header_id = set()\n",
    "for i, papers in enumerate(texts):\n",
    "    for j,sample in enumerate(papers.split(\"\\n\\n\")):\n",
    "        new_text_annot = {\"header\": '', \"abstract\": '', \"keys\": ''}\n",
    "        try:\n",
    "            new_text_annot['header'] = re.findall(\"<h>(.+)\\\\n\", sample)[0]\n",
    "        except IndexError:\n",
    "            broken_texts.append(sample)\n",
    "            continue\n",
    "        if new_text_annot['header'] in header_id:\n",
    "            continue\n",
    "        else:\n",
    "            header_id.add(new_text_annot['header'])\n",
    "        try:\n",
    "            new_text_annot['abstract'] = re.findall(\"<abs>(.+)\\\\n\", sample)[0]\n",
    "        except IndexError:\n",
    "            print(f\"Not found abstract in {i}, {j}\")\n",
    "        try:\n",
    "            \n",
    "            new_text_annot['keys'] = re.findall(\"<key>(.+)\\\\n\", sample)[0].replace(\"Ключевые слова: \", \"\")\n",
    "        except IndexError:\n",
    "            print(f\"Not found keys in {i}, {j}\")\n",
    "        paragraphs = re.findall(\"<pa>(.+)\\\\n\", sample)\n",
    "        if any([True if \"\\n\" in x else False for x in paragraphs]):\n",
    "            raise ValueError\n",
    "        paragraphs = '\\n'.join(paragraphs)\n",
    "        new_text_annot[\"indices\"] = [i for i, c in enumerate(paragraphs) if c == \"\\n\"]\n",
    "        new_text_annot[\"text\"] = paragraphs.replace(\"\\n\", \" \")\n",
    "        paragrap_annotation.append(new_text_annot)\n",
    "        "
   ]
  },
  {
   "cell_type": "code",
   "execution_count": 51,
   "id": "2c0f845e-5977-47dc-b08e-cb6f1eb721da",
   "metadata": {},
   "outputs": [
    {
     "data": {
      "text/plain": [
       "0"
      ]
     },
     "execution_count": 51,
     "metadata": {},
     "output_type": "execute_result"
    }
   ],
   "source": [
    "len(broken_texts)"
   ]
  },
  {
   "cell_type": "code",
   "execution_count": 47,
   "id": "9cc88a2b-c17c-4d99-b526-c6a6a2d13496",
   "metadata": {},
   "outputs": [],
   "source": [
    "with open(\"broken.txt\", 'w') as f:\n",
    "    f.write(\"\\n\\n\".join(broken_texts))"
   ]
  },
  {
   "cell_type": "code",
   "execution_count": 40,
   "id": "5c9944df-e5cb-424e-af70-cfcbe9259c18",
   "metadata": {},
   "outputs": [
    {
     "data": {
      "text/plain": [
       "['Ключевые слова: затраты на рабочую силу, затраты на оплату труда, затраты на заработную плату']"
      ]
     },
     "execution_count": 40,
     "metadata": {},
     "output_type": "execute_result"
    }
   ],
   "source": []
  },
  {
   "cell_type": "code",
   "execution_count": 55,
   "id": "e6a9def3-a8c4-4b67-9bcb-b2e802c852e7",
   "metadata": {},
   "outputs": [],
   "source": [
    "\n",
    "with open(\"paragraph_corpus.json\", 'w') as f:\n",
    "    json.dump(paragrap_annotation, f)"
   ]
  },
  {
   "cell_type": "code",
   "execution_count": 5,
   "id": "e4f1840a-4d17-4432-b668-f85e5e344354",
   "metadata": {},
   "outputs": [],
   "source": [
    "jtexts = ' '.join(texts)\n",
    "jtexts = jtexts.replace(\"\\n\", '')"
   ]
  },
  {
   "cell_type": "code",
   "execution_count": null,
   "id": "fdeb3f51-0bcc-4e13-af1f-e0302d89f820",
   "metadata": {},
   "outputs": [],
   "source": [
    "#segments = jtexts.split(\"<pa>\")\n",
    "#len(segments)"
   ]
  },
  {
   "cell_type": "code",
   "execution_count": 8,
   "id": "d810e31b-b3c5-446b-a191-1ff67c1f56e8",
   "metadata": {},
   "outputs": [],
   "source": [
    "articles = jtexts.split(\"<h>\")"
   ]
  },
  {
   "cell_type": "code",
   "execution_count": 16,
   "id": "c5f4deab-beff-461f-83ca-854979fe9d71",
   "metadata": {},
   "outputs": [],
   "source": [
    "art_seg = list(map(lambda x: x.split(\"<pa>\"), articles))"
   ]
  },
  {
   "cell_type": "markdown",
   "id": "95203331-23ee-4795-b83e-294e35374d6c",
   "metadata": {},
   "source": [
    "# Loading"
   ]
  },
  {
   "cell_type": "code",
   "execution_count": 3,
   "id": "45754d53-c679-4986-ab1d-2cd10a02a8f2",
   "metadata": {},
   "outputs": [],
   "source": [
    "\n",
    "with open(\"paragraph_corpus.json\",) as f:\n",
    "    corpus = json.load( f)"
   ]
  },
  {
   "cell_type": "code",
   "execution_count": 24,
   "id": "26ee3a4e-d74b-45b9-a609-eacd5927ec85",
   "metadata": {},
   "outputs": [],
   "source": [
    "def visualize(text, enter_idx):\n",
    "    c = 0\n",
    "    prev = -1\n",
    "    new_text = ''\n",
    "    for i in enter_idx:\n",
    "        new_text += text[prev+1:i]\n",
    "        new_text += \"\\n\"\n",
    "        #c += 1\n",
    "        prev = i# + c\n",
    "    return new_text"
   ]
  },
  {
   "cell_type": "code",
   "execution_count": 28,
   "id": "d3f9a659-80a6-4883-957f-d519cbf5c142",
   "metadata": {},
   "outputs": [],
   "source": [
    "texts = [c[\"text\"] for c in corpus]"
   ]
  },
  {
   "cell_type": "code",
   "execution_count": 31,
   "id": "1a06eeff-1253-41a1-82eb-3afc97c51453",
   "metadata": {},
   "outputs": [],
   "source": [
    "with open(\"corpus.txt\", 'w') as f:\n",
    "    f.write(\"\\n\\n\".join(texts))"
   ]
  },
  {
   "cell_type": "code",
   "execution_count": 8,
   "id": "00458b9b-5737-4f13-984f-80c22d247512",
   "metadata": {},
   "outputs": [
    {
     "data": {
      "text/plain": [
       "'Мед, цветочная пыльца (обножка), маточное молочко, прополис – уникальные  продукты природы, содержащие в сбалансированном сочетании ряд важнейших биологически активных компонентов: белков, липидов, аминокислот, витаминов, ферментов, макро- и микроэлементов. Обладая достаточно высокой терапевтической активностью, они действуют мягче, физиологичнее синтетических лекарственных средств, характеризуются высокой степью безопасности, а относительная дешевизна делает их доступными практически для всех социальных слоев населения. Пыльца, например, является прекрасным лечебным и профилактическим средством при многих заболеваниях, а также биостимулятором, благотворно действующим на организм. Пыльца содержит все микроэлементы и аминокислоты, необходимые для нормального развития организма. Особенно много в ней калия, железа, меди и кобальта. Провитамина А (каротина) в пыльце в 20 раз больше, чем в моркови. В ней есть витамины группы В, Е, С, D, Р, РР, К и др., фитогормоны, стимулирующие рост тканей, антибактериальные вещества, а также соединения, обладающие противосклеротическим, противовоспалительным, капилляроукрепляющим, антиоксидантным, мочегонным, желчегонным, противоопухолевым и другими свойствами, однако механизмы подобного воздействия практически не изучены. Возможным фармакологическим агентом, оказывающим подобное действие, могут являться пептиды, поскольку для пептидных молекул характерно мощное полифункциональное воздействие на организм.'"
      ]
     },
     "execution_count": 9,
     "metadata": {},
     "output_type": "execute_result"
    }
   ],
   "source": [
    "text[:526]"
   ]
  },
  {
   "cell_type": "code",
   "execution_count": 32,
   "id": "0cc2ae4b-7deb-47d1-984b-f4a7482b3b71",
   "metadata": {},
   "outputs": [],
   "source": [
    "new_annot = []\n",
    "for i in range(len(corpus)):\n",
    "    a = corpus[i]\n",
    "    idx = a.pop(\"indices\")\n",
    "    a.pop(\"text\")\n",
    "    a[\"carriage_idx\"] = idx\n",
    "    a[\"text_id\"] = i\n",
    "    new_annot.append(a)"
   ]
  },
  {
   "cell_type": "code",
   "execution_count": 35,
   "id": "464094ef-2e12-4f7f-a4b8-f4c7842ff223",
   "metadata": {},
   "outputs": [],
   "source": [
    "\n",
    "with open(\"annotation.json\", 'w') as f:\n",
    "    json.dump(new_annot, f)"
   ]
  },
  {
   "cell_type": "code",
   "execution_count": null,
   "id": "44a218ea-6817-4b71-bbc1-fbbf5219be6d",
   "metadata": {},
   "outputs": [],
   "source": [
    "art_seg_sent = list(map(lambda x: [sent_tokenize(y) for y in x[3:]], art_seg))\n",
    "art_seg_sent.pop(0)"
   ]
  }
 ],
 "metadata": {
  "kernelspec": {
   "display_name": "Python 3 (ipykernel)",
   "language": "python",
   "name": "python3"
  },
  "language_info": {
   "codemirror_mode": {
    "name": "ipython",
    "version": 3
   },
   "file_extension": ".py",
   "mimetype": "text/x-python",
   "name": "python",
   "nbconvert_exporter": "python",
   "pygments_lexer": "ipython3",
   "version": "3.9.7"
  }
 },
 "nbformat": 4,
 "nbformat_minor": 5
}
